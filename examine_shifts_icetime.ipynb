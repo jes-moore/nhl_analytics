{
 "cells": [
  {
   "cell_type": "code",
   "execution_count": 2,
   "metadata": {},
   "outputs": [],
   "source": [
    "import pandas as pd\n",
    "import numpy as np\n",
    "import os\n",
    "from tqdm import tqdm"
   ]
  },
  {
   "cell_type": "code",
   "execution_count": 3,
   "metadata": {},
   "outputs": [],
   "source": [
    "## Functions\n",
    "def get_winning_stats(row):\n",
    "    if row['outcome'] in ['home win OT','home win REG','home win SO']:\n",
    "        winner = row['home_team_id']\n",
    "        winner_name = row['home_team_name']\n",
    "        loser = row['away_team_id']\n",
    "        loser_name = row['away_team_name']\n",
    "        winner_loc = 'home'\n",
    "        winner_avgNumShift = row['home_avg_numShift']\n",
    "        loser_avgNumShift = row['away_avg_numShift']\n",
    "        winner_avgIceTime = row['home_avg_icetime']\n",
    "        loser_avgIceTime  = row['away_avg_icetime']\n",
    "    else:\n",
    "        winner = row['away_team_id']\n",
    "        winner_name = row['away_team_name']\n",
    "        loser = row['home_team_id']\n",
    "        loser_name = row['home_team_name']\n",
    "        winner_loc = 'away'\n",
    "        winner_avgNumShift = row['home_avg_numShift']\n",
    "        loser_avgNumShift = row['away_avg_numShift']\n",
    "        winner_avgIceTime = row['away_avg_icetime']\n",
    "        loser_avgIceTime  = row['home_avg_icetime']\n",
    "        \n",
    "    return pd.Series({'winner':winner,\n",
    "                      'winner_name':winner_name,\n",
    "                      'loser':loser,\n",
    "                      'loser_name':loser_name,\n",
    "                      'winner_loc':winner_loc,\n",
    "                      'winner_avgNumShift':winner_avgNumShift,\n",
    "                      'loser_avgNumShift':loser_avgNumShift,\n",
    "                      'winner_avgIceTime':winner_avgIceTime,\n",
    "                      'loser_avgIceTime':loser_avgIceTime})"
   ]
  },
  {
   "cell_type": "markdown",
   "metadata": {},
   "source": [
    "### 1. Plot By Avg Number of Shifts/Player"
   ]
  },
  {
   "cell_type": "code",
   "execution_count": 5,
   "metadata": {},
   "outputs": [
    {
     "data": {
      "text/plain": [
       "<matplotlib.axes._subplots.AxesSubplot at 0x7ffb1da80b38>"
      ]
     },
     "execution_count": 5,
     "metadata": {},
     "output_type": "execute_result"
    },
    {
     "data": {
      "image/png": "[encoded data removed]",
      "text/plain": [
       "<Figure size 432x288 with 1 Axes>"
      ]
     },
     "metadata": {
      "needs_background": "light"
     },
     "output_type": "display_data"
    }
   ],
   "source": [
    "## Load Dataframes\n",
    "game_df = pd.read_csv('data/upd_game.csv')\n",
    "team_to_analyze = 'Pittsburgh Penguins'\n",
    "game_df = game_df[(game_df.home_team_name == team_to_analyze) |\\\n",
    "                 (game_df.away_team_name == team_to_analyze)]\n",
    "\n",
    "## Get Stats For Winning Teams\n",
    "winning_df = game_df.apply(lambda x: get_winning_stats(x),axis = 1)\n",
    "\n",
    "## Create Win Count \n",
    "win_cnt = winning_df.groupby('winner_avgNumShift')\\\n",
    ".agg({'winner':'count'}).reset_index()\n",
    "win_cnt.columns = ['avgNumShift','win_count']\n",
    "\n",
    "## Create Loss Count\n",
    "los_cnt = winning_df.groupby('loser_avgNumShift')\\\n",
    ".agg({'loser':'count'}).reset_index()\n",
    "los_cnt.columns = ['avgNumShift','loss_count']\n",
    "\n",
    "## Merge Counts\n",
    "winlos_cnt = win_cnt.merge(los_cnt)\n",
    "winlos_cnt['win_ratio'] = winlos_cnt['win_count'] /\\\n",
    "(winlos_cnt['win_count'] + winlos_cnt['loss_count'])\n",
    "\n",
    "# ## Remove Outliers\n",
    "winlos_cnt = winlos_cnt[winlos_cnt.avgNumShift >= 18]\n",
    "winlos_cnt = winlos_cnt[winlos_cnt.avgNumShift <= 24]\n",
    "\n",
    "%matplotlib inline\n",
    "winlos_cnt[['avgNumShift','win_ratio']].plot(x='avgNumShift',kind = 'bar')"
   ]
  },
  {
   "cell_type": "markdown",
   "metadata": {},
   "source": [
    "### 2. Plot by Avg Ice Time"
   ]
  },
  {
   "cell_type": "code",
   "execution_count": 6,
   "metadata": {},
   "outputs": [
    {
     "data": {
      "text/plain": [
       "<matplotlib.axes._subplots.AxesSubplot at 0x7ffb1b739ba8>"
      ]
     },
     "execution_count": 6,
     "metadata": {},
     "output_type": "execute_result"
    },
    {
     "data": {
      "image/png": "[encoded data removed]",
      "text/plain": [
       "<Figure size 432x288 with 1 Axes>"
      ]
     },
     "metadata": {
      "needs_background": "light"
     },
     "output_type": "display_data"
    }
   ],
   "source": [
    "## Get Stats For Winning Teams\n",
    "winning_df = game_df.apply(lambda x: get_winning_stats(x),axis = 1)\n",
    "\n",
    "## Create Win Count \n",
    "win_cnt = winning_df.groupby('winner_avgIceTime')\\\n",
    ".agg({'winner':'count'}).reset_index()\n",
    "win_cnt.columns = ['avg_IceTime','win_count']\n",
    "\n",
    "## Create Loss Count\n",
    "los_cnt = winning_df.groupby('loser_avgIceTime')\\\n",
    ".agg({'loser':'count'}).reset_index()\n",
    "los_cnt.columns = ['avg_IceTime','loss_count']\n",
    "\n",
    "## Merge Counts\n",
    "winlos_cnt = win_cnt.merge(los_cnt)\n",
    "\n",
    "## Remove Outliers\n",
    "winlos_cnt = winlos_cnt[winlos_cnt.avg_IceTime >= 500]\n",
    "winlos_cnt = winlos_cnt[winlos_cnt.avg_IceTime <= 1060]\n",
    "\n",
    "## Bin Data, Group, and Calc Winrate\n",
    "winlos_cnt['bins'] = pd.cut(winlos_cnt.avg_IceTime,bins=range(950,1070,10))\n",
    "winlos_cnt = winlos_cnt.groupby('bins').agg({'win_count':'sum','loss_count':'sum'})\n",
    "winlos_cnt['win_ratio'] = winlos_cnt['win_count'] /\\\n",
    "(winlos_cnt['win_count'] + winlos_cnt['loss_count'])\n",
    "winlos_cnt.reset_index(inplace= True)\n",
    "\n",
    "#Plot\n",
    "%matplotlib inline\n",
    "winlos_cnt[['bins','win_ratio']].plot(x = 'bins',kind = 'bar')"
   ]
  }
 ],
 "metadata": {
  "kernelspec": {
   "display_name": "Python 3",
   "language": "python",
   "name": "python3"
  },
  "language_info": {
   "codemirror_mode": {
    "name": "ipython",
    "version": 3
   },
   "file_extension": ".py",
   "mimetype": "text/x-python",
   "name": "python",
   "nbconvert_exporter": "python",
   "pygments_lexer": "ipython3",
   "version": "3.6.6"
  }
 },
 "nbformat": 4,
 "nbformat_minor": 2
}
