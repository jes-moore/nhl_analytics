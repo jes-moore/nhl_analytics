{
 "cells": [
  {
   "cell_type": "code",
   "execution_count": 1,
   "metadata": {},
   "outputs": [],
   "source": [
    "import pandas as pd\n",
    "import numpy as np\n",
    "import os\n",
    "from tqdm import tqdm\n",
    "\n",
    "## Functions\n",
    "def get_shift_data(game_id,player_id):\n",
    "    return shifts_agg_df[(shifts_agg_df.game_id == game_id) & \n",
    "                        (shifts_agg_df.player_id == player_id)].agg('mean')\n",
    "\n",
    "def avg_icetime(game_id,team_id):\n",
    "    player_df = player_game_df[(player_game_df.game_id == game_id) &\\\n",
    "                              (player_game_df.team_id == team_id)]\n",
    "    return np.round(player_df.agg({'timeOnIce':{'mean'}}).values[0][0],0)   \n",
    "\n",
    "def avg_shift_len(game_id,team_id):\n",
    "    player_df = player_game_df[(player_game_df.game_id == game_id) &\\\n",
    "                              (player_game_df.team_id == team_id)]\n",
    "    return np.round(player_df.agg({'mean_shift_length':{'mean'}}).values[0][0],0)\n",
    "\n",
    "def avg_num_shift(game_id,team_id):\n",
    "    player_df = player_game_df[(player_game_df.game_id == game_id) &\\\n",
    "                              (player_game_df.team_id == team_id)]\n",
    "    return np.round(player_df.agg({'number_shifts':{'mean'}}).values[0][0],0)\n",
    "\n",
    "def num_players(game_id,team_id):\n",
    "    player_df = player_game_df[(player_game_df.game_id == game_id) &\\\n",
    "                              (player_game_df.team_id == team_id)]\n",
    "    return np.round(player_df.agg({'number_shifts':{'count'}}).values[0][0],0)\n",
    "\n",
    "def get_winning_stats(row):\n",
    "    if row['outcome'] in ['home win OT','home win REG','home win SO']:\n",
    "        winner = row['home_team_id']\n",
    "        winner_name = row['home_team_name']\n",
    "        loser = row['away_team_id']\n",
    "        loser_name = row['away_team_name']\n",
    "        winner_loc = 'home'\n",
    "        winner_avgShiftLen = row['home_avg_shiftLen']\n",
    "        loser_avgShiftLen = row['away_avg_shiftLen']\n",
    "        winner_avgNumShift = row['home_avg_numShift']\n",
    "        loser_avgNumShift = row['away_avg_numShift']\n",
    "        winner_avgIceTime = row['home_avg_icetime']\n",
    "        loser_avgIceTime  = row['away_avg_icetime']\n",
    "    else:\n",
    "        winner = row['away_team_id']\n",
    "        winner_name = row['away_team_name']\n",
    "        loser = row['home_team_id']\n",
    "        loser_name = row['home_team_name']\n",
    "        winner_loc = 'away'\n",
    "        winner_avgShiftLen = row['away_avg_shiftLen']\n",
    "        loser_avgShiftLen = row['home_avg_shiftLen']\n",
    "        winner_avgNumShift = row['home_avg_numShift']\n",
    "        loser_avgNumShift = row['away_avg_numShift']\n",
    "        winner_avgIceTime = row['away_avg_icetime']\n",
    "        loser_avgIceTime  = row['home_avg_icetime']\n",
    "        \n",
    "    return pd.Series({'winner':winner,\n",
    "                      'winner_name':winner_name,\n",
    "                      'loser':loser,\n",
    "                      'loser_name':loser_name,\n",
    "                      'winner_loc':winner_loc,\n",
    "                      'winner_avgShiftLen':winner_avgShiftLen,\n",
    "                      'loser_avgShiftLen':loser_avgShiftLen,\n",
    "                      'winner_avgNumShift':winner_avgNumShift,\n",
    "                      'loser_avgNumShift':loser_avgNumShift,\n",
    "                      'winner_avgIceTime':winner_avgIceTime,\n",
    "                      'loser_avgIceTime':loser_avgIceTime})"
   ]
  },
  {
   "cell_type": "markdown",
   "metadata": {},
   "source": [
    "## Load and Prepare Data"
   ]
  },
  {
   "cell_type": "markdown",
   "metadata": {},
   "source": [
    "#### 1. Prepare Data for Shifts for Each Player-Game Pair"
   ]
  },
  {
   "cell_type": "code",
   "execution_count": null,
   "metadata": {},
   "outputs": [],
   "source": [
    "## Get data  on shifts for each player/game\n",
    "shifts_df = pd.read_csv('data/game_shifts.csv')\n",
    "shifts_df['shift_duration'] = shifts_df['shift_end'] - shifts_df['shift_start']\n",
    "shifts_df = shifts_df[shifts_df.shift_duration > 10]\n",
    "shifts_df = shifts_df[shifts_df.shift_duration < 200]\n",
    "\n",
    "#Aggregate data by game and player\n",
    "shifts_agg_df = shifts_df.groupby(['game_id','player_id'])\\\n",
    ".agg({'shift_duration':{'count','sum','mean'}})\n",
    "shifts_agg_df.columns = shifts_agg_df.columns.droplevel()\n",
    "shifts_agg_df.reset_index(inplace=True)\n",
    "\n",
    "## Merge Player Game data With \n",
    "player_game_df = pd.read_csv('data/game_skater_stats.csv')\n",
    "player_game_df = pd.concat([player_game_df,\n",
    "                            player_game_df.apply(lambda x:\n",
    "                                                 get_shift_data(x['game_id'],\n",
    "                                                                x['player_id']),\n",
    "                                                 axis= 1).iloc[:,2:]],\n",
    "                           axis = 1)\n",
    "\n",
    "player_game_df.rename(columns = {'sum':'total_timeOnIce',\n",
    "                                 'count':'number_shifts',\n",
    "                                 'mean':'mean_shift_length'},\n",
    "                      inplace = True)\n",
    "\n",
    "player_game_df.to_csv('data/upd_game_skater_stats.csv')"
   ]
  },
  {
   "cell_type": "markdown",
   "metadata": {},
   "source": [
    "#### 2. Aggregate Average Player Data for Each Game"
   ]
  },
  {
   "cell_type": "code",
   "execution_count": null,
   "metadata": {},
   "outputs": [],
   "source": [
    "#Load Games Dataset\n",
    "games_df = pd.read_csv('data/game.csv')\n",
    "games_df.drop(['venue_link','venue_time_zone_id'], axis= 1, inplace= True)\n",
    "\n",
    "#Load and Drop Unused Columns\n",
    "team_info = pd.read_csv('data/team_info.csv')\n",
    "team_info['combined_name'] = team_info.shortName + ' ' + team_info.teamName\n",
    "team_info.drop(['franchiseId','shortName','teamName','abbreviation','link'],\n",
    "               axis = 1,inplace=True)\n",
    "\n",
    "#Create home and away datasets for joining\n",
    "away_info = team_info.copy()\n",
    "away_info.columns = ['away_team_id','away_team_name']\n",
    "home_info = team_info.copy()\n",
    "home_info.columns = ['home_team_id','home_team_name']\n",
    "\n",
    "#Merge Columns\n",
    "games_df = games_df.merge(away_info)\n",
    "games_df = games_df.merge(home_info)\n",
    "\n",
    "#Run functions to extract winning team data\n",
    "games_df['home_avg_icetime'] =\\\n",
    "games_df.apply(lambda x: avg_icetime(x['game_id'],x['home_team_id']),axis = 1)\n",
    "games_df['away_avg_icetime'] =\\\n",
    "games_df.apply(lambda x: avg_icetime(x['game_id'],x['away_team_id']),axis = 1)\n",
    "\n",
    "games_df['home_avg_shiftLen'] =\\\n",
    "games_df.apply(lambda x: avg_shift_len(x['game_id'],x['home_team_id']),axis = 1)\n",
    "games_df['away_avg_shiftLen'] =\\\n",
    "games_df.apply(lambda x: avg_shift_len(x['game_id'],x['away_team_id']),axis = 1)\n",
    "\n",
    "games_df['home_avg_numShift'] =\\\n",
    "games_df.apply(lambda x: avg_num_shift(x['game_id'],x['home_team_id']),axis = 1)\n",
    "games_df['away_avg_numShift'] =\\\n",
    "games_df.apply(lambda x: avg_num_shift(x['game_id'],x['away_team_id']),axis = 1)\n",
    "\n",
    "games_df['home_cnt_players'] =\\\n",
    "games_df.apply(lambda x: num_players(x['game_id'],x['home_team_id']),axis = 1)\n",
    "games_df['away_cnt_players'] =\\\n",
    "games_df.apply(lambda x: num_players(x['game_id'],x['away_team_id']),axis = 1)\n",
    "\n",
    "games_df.dropna(inplace = True)\n",
    "games_df.to_csv('data/upd_game.csv',index=False)\n",
    "\n",
    "## Get Stats For Winning Teams\n",
    "winning_df = pd.concat([games_df,\n",
    "                        games_df.apply(lambda x: get_winning_stats(x),axis = 1)],\n",
    "                       axis = 1 )\n",
    "winning_df.to_csv('shiny_app/app_data/upd_game_df.csv')"
   ]
  },
  {
   "cell_type": "code",
   "execution_count": null,
   "metadata": {},
   "outputs": [],
   "source": []
  },
  {
   "cell_type": "code",
   "execution_count": null,
   "metadata": {},
   "outputs": [],
   "source": []
  },
  {
   "cell_type": "code",
   "execution_count": 2,
   "metadata": {},
   "outputs": [],
   "source": [
    "plays_df = pd.read_csv('data/game_plays.csv')"
   ]
  },
  {
   "cell_type": "code",
   "execution_count": 3,
   "metadata": {},
   "outputs": [],
   "source": [
    "shooting_df = plays_df.loc[plays_df.event.isin(['Goal','Shot']),:]\n",
    "\n",
    "#Format Shot by and Goalie\n",
    "#     shooting_df.loc[:,'shot_by'] = shooting_df['description']\\\n",
    "#     .apply(lambda x: ' '.join(x.split()[0:2])).values\n",
    "#     shooting_df.loc[:,'goalie'] = shooting_df['description']\\\n",
    "#     .apply(lambda x: ' '.join(x.split()[-2:])).values\n",
    "\n",
    "# ## X and Y are inverted in the dataset vs our chart\n",
    "# shooting_df.loc[:,'X'] = shooting_df['st_y'].apply(lambda x: x*500/85).values\n",
    "# shooting_df.loc[:,'Y'] = shooting_df['st_x'].apply(lambda y: y*500/85).values\n",
    "\n",
    "# shooting_df = shooting_df.loc[shooting_df['Y']>0,:] #ignore shots below center ice\n",
    "# shooting_df = shooting_df.loc[shooting_df['Y']<516.5,:] #ignore shots below center ice"
   ]
  },
  {
   "cell_type": "code",
   "execution_count": 4,
   "metadata": {},
   "outputs": [
    {
     "name": "stderr",
     "output_type": "stream",
     "text": [
      "/home/jmoore/tensorflow/lib/python3.6/site-packages/pandas/core/indexing.py:362: SettingWithCopyWarning: \n",
      "A value is trying to be set on a copy of a slice from a DataFrame.\n",
      "Try using .loc[row_indexer,col_indexer] = value instead\n",
      "\n",
      "See the caveats in the documentation: http://pandas.pydata.org/pandas-docs/stable/indexing.html#indexing-view-versus-copy\n",
      "  self.obj[key] = _infer_fill_value(value)\n",
      "/home/jmoore/tensorflow/lib/python3.6/site-packages/pandas/core/indexing.py:543: SettingWithCopyWarning: \n",
      "A value is trying to be set on a copy of a slice from a DataFrame.\n",
      "Try using .loc[row_indexer,col_indexer] = value instead\n",
      "\n",
      "See the caveats in the documentation: http://pandas.pydata.org/pandas-docs/stable/indexing.html#indexing-view-versus-copy\n",
      "  self.obj[item] = s\n"
     ]
    }
   ],
   "source": [
    "#Format Shot by and Goalie\n"
   ]
  },
  {
   "cell_type": "code",
   "execution_count": 9,
   "metadata": {},
   "outputs": [
    {
     "name": "stderr",
     "output_type": "stream",
     "text": [
      "/home/jmoore/tensorflow/lib/python3.6/site-packages/pandas/core/indexing.py:543: SettingWithCopyWarning: \n",
      "A value is trying to be set on a copy of a slice from a DataFrame.\n",
      "Try using .loc[row_indexer,col_indexer] = value instead\n",
      "\n",
      "See the caveats in the documentation: http://pandas.pydata.org/pandas-docs/stable/indexing.html#indexing-view-versus-copy\n",
      "  self.obj[item] = s\n"
     ]
    }
   ],
   "source": [
    "shooting_df.loc[:,'shot_by'] = shooting_df['description']\\\n",
    ".apply(lambda x: ' '.join(x.split()[0:2]))\n",
    "shooting_df.loc[:,'goalie'] = shooting_df['description']\\\n",
    ".apply(lambda x: ' '.join(x.split()[-2:]))"
   ]
  },
  {
   "cell_type": "code",
   "execution_count": 20,
   "metadata": {},
   "outputs": [],
   "source": [
    "vals = shooting_df['description'].apply(lambda x: ' '.join(x.split()[0:2])).values"
   ]
  },
  {
   "cell_type": "code",
   "execution_count": 23,
   "metadata": {},
   "outputs": [
    {
     "name": "stderr",
     "output_type": "stream",
     "text": [
      "/home/jmoore/tensorflow/lib/python3.6/site-packages/pandas/core/indexing.py:543: SettingWithCopyWarning: \n",
      "A value is trying to be set on a copy of a slice from a DataFrame.\n",
      "Try using .loc[row_indexer,col_indexer] = value instead\n",
      "\n",
      "See the caveats in the documentation: http://pandas.pydata.org/pandas-docs/stable/indexing.html#indexing-view-versus-copy\n",
      "  self.obj[item] = s\n"
     ]
    }
   ],
   "source": [
    "shooting_df.loc[:,'vals'] = vals"
   ]
  },
  {
   "cell_type": "code",
   "execution_count": 28,
   "metadata": {},
   "outputs": [
    {
     "ename": "TypeError",
     "evalue": "insert() missing 1 required positional argument: 'item'",
     "output_type": "error",
     "traceback": [
      "\u001b[0;31m---------------------------------------------------------------------------\u001b[0m",
      "\u001b[0;31mTypeError\u001b[0m                                 Traceback (most recent call last)",
      "\u001b[0;32m<ipython-input-28-b86ef8a5a6f6>\u001b[0m in \u001b[0;36m<module>\u001b[0;34m\u001b[0m\n\u001b[0;32m----> 1\u001b[0;31m \u001b[0mshooting_df\u001b[0m\u001b[0;34m.\u001b[0m\u001b[0mcolumns\u001b[0m\u001b[0;34m.\u001b[0m\u001b[0minsert\u001b[0m\u001b[0;34m(\u001b[0m\u001b[0;34m'test'\u001b[0m\u001b[0;34m)\u001b[0m\u001b[0;34m\u001b[0m\u001b[0m\n\u001b[0m",
      "\u001b[0;31mTypeError\u001b[0m: insert() missing 1 required positional argument: 'item'"
     ]
    }
   ],
   "source": [
    "shooting_df."
   ]
  },
  {
   "cell_type": "code",
   "execution_count": null,
   "metadata": {},
   "outputs": [],
   "source": []
  }
 ],
 "metadata": {
  "kernelspec": {
   "display_name": "Python 3",
   "language": "python",
   "name": "python3"
  },
  "language_info": {
   "codemirror_mode": {
    "name": "ipython",
    "version": 3
   },
   "file_extension": ".py",
   "mimetype": "text/x-python",
   "name": "python",
   "nbconvert_exporter": "python",
   "pygments_lexer": "ipython3",
   "version": "3.6.6"
  }
 },
 "nbformat": 4,
 "nbformat_minor": 2
}
