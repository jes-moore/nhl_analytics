{
 "cells": [
  {
   "cell_type": "code",
   "execution_count": 2,
   "metadata": {},
   "outputs": [],
   "source": [
    "import pandas as pd\n",
    "from tqdm import tqdm\n",
    "pd.set_option(\"display.max_columns\",100)"
   ]
  },
  {
   "cell_type": "markdown",
   "metadata": {},
   "source": [
    "### 1. Load Datasets"
   ]
  },
  {
   "cell_type": "code",
   "execution_count": 3,
   "metadata": {},
   "outputs": [],
   "source": [
    "## Load Penalty Data\n",
    "plays_df = pd.read_csv('data/game_plays.csv')\n",
    "penalties_df = plays_df[plays_df.event == 'Penalty']\n",
    "\n",
    "#Load Team Info\n",
    "team_info = pd.read_csv('data/team_info.csv')\n",
    "team_info['combined_name'] = team_info.shortName + ' ' + team_info.teamName\n",
    "team_info.drop(['franchiseId','shortName','teamName','abbreviation','link'],\n",
    "               axis = 1,inplace=True)\n",
    "\n",
    "#Load Games Dataset\n",
    "games_df = pd.read_csv('data/game.csv')\n",
    "games_df.drop(['venue_link','venue_time_zone_id'], axis= 1, inplace= True)\n",
    "\n",
    "#Load and Drop Unused Columns\n",
    "team_info = pd.read_csv('data/team_info.csv')\n",
    "team_info['combined_name'] = team_info.shortName + ' ' + team_info.teamName\n",
    "team_info.drop(['franchiseId','shortName','teamName','abbreviation','link'],\n",
    "               axis = 1,inplace=True)"
   ]
  },
  {
   "cell_type": "markdown",
   "metadata": {},
   "source": [
    "### 2. Create Home/Away and Join"
   ]
  },
  {
   "cell_type": "code",
   "execution_count": 4,
   "metadata": {},
   "outputs": [
    {
     "name": "stdout",
     "output_type": "stream",
     "text": [
      "Loaded 7293 Unique Games\n"
     ]
    }
   ],
   "source": [
    "#Create home and away datasets for joining\n",
    "away_info = team_info.copy()\n",
    "away_info.columns = ['away_team_id','away_team_name']\n",
    "home_info = team_info.copy()\n",
    "home_info.columns = ['home_team_id','home_team_name']\n",
    "\n",
    "#Merge Columns\n",
    "games_df = games_df.merge(away_info)\n",
    "games_df = games_df.merge(home_info)\n",
    "penalties_df = penalties_df.merge(games_df,on='game_id')\n",
    "\n",
    "## Get unique games\n",
    "unique_games = penalties_df.game_id.unique()\n",
    "print(\"Loaded {} Unique Games\".format(len(unique_games)))"
   ]
  },
  {
   "cell_type": "markdown",
   "metadata": {},
   "source": [
    "### Create For, Winner, and Leading@time Columns"
   ]
  },
  {
   "cell_type": "code",
   "execution_count": 5,
   "metadata": {},
   "outputs": [],
   "source": [
    "penalties_df['for'] = 'mismatch'\n",
    "penalties_df.loc[penalties_df.team_id_for == penalties_df.home_team_id,\n",
    "                 'for']= 'home'\n",
    "penalties_df.loc[penalties_df.team_id_for == penalties_df.away_team_id,\n",
    "                 'for']= 'away'\n",
    "\n",
    "penalties_df['winner'] = 'even'\n",
    "penalties_df.loc[penalties_df['home_goals'] > penalties_df['away_goals'],\n",
    "                 'winner'] = \"home\"\n",
    "penalties_df.loc[penalties_df['away_goals'] > penalties_df['home_goals'],\n",
    "                 'winner'] = \"away\"\n",
    "\n",
    "penalties_df['leading_at_time'] = 'even'\n",
    "penalties_df.loc[penalties_df['goals_home'] > penalties_df['goals_away'],\n",
    "                 'leading_at_time'] = \"home\"\n",
    "penalties_df.loc[penalties_df['goals_away'] > penalties_df['goals_home'],\n",
    "                 'leading_at_time'] = \"away\""
   ]
  },
  {
   "cell_type": "markdown",
   "metadata": {},
   "source": [
    "### 3. Iterate Over Games and  Produce Final DF"
   ]
  },
  {
   "cell_type": "code",
   "execution_count": 6,
   "metadata": {},
   "outputs": [
    {
     "name": "stderr",
     "output_type": "stream",
     "text": [
      "100%|██████████| 7293/7293 [00:32<00:00, 222.35it/s]\n"
     ]
    }
   ],
   "source": [
    "all_last_pens = []\n",
    "for gameid in tqdm(unique_games):\n",
    "    game_pens = penalties_df[penalties_df.game_id == gameid].sort_values('play_num')\n",
    "    game_plays =plays_df[plays_df.game_id == gameid].sort_values('play_num')\n",
    "    game_pens.reset_index(inplace = True)\n",
    "    last_pen_list = []\n",
    "    for ix,row in game_pens.iterrows():\n",
    "        if ix == 0:\n",
    "            last_pen_list = [\"First Penalty\"]\n",
    "        else:\n",
    "            last_pen_list.append(last_pen)\n",
    "        last_pen = row['for']\n",
    "    all_last_pens = all_last_pens + last_pen_list\n",
    "    \n",
    "penalties_df['last_penalty_for'] = all_last_pens"
   ]
  },
  {
   "cell_type": "code",
   "execution_count": 25,
   "metadata": {},
   "outputs": [
    {
     "data": {
      "text/html": [
       "<div>\n",
       "<style scoped>\n",
       "    .dataframe tbody tr th:only-of-type {\n",
       "        vertical-align: middle;\n",
       "    }\n",
       "\n",
       "    .dataframe tbody tr th {\n",
       "        vertical-align: top;\n",
       "    }\n",
       "\n",
       "    .dataframe thead th {\n",
       "        text-align: right;\n",
       "    }\n",
       "</style>\n",
       "<table border=\"1\" class=\"dataframe\">\n",
       "  <thead>\n",
       "    <tr style=\"text-align: right;\">\n",
       "      <th></th>\n",
       "      <th></th>\n",
       "      <th></th>\n",
       "      <th>counter</th>\n",
       "    </tr>\n",
       "    <tr>\n",
       "      <th>last_penalty_for</th>\n",
       "      <th>leading_at_time</th>\n",
       "      <th>for</th>\n",
       "      <th></th>\n",
       "    </tr>\n",
       "  </thead>\n",
       "  <tbody>\n",
       "    <tr>\n",
       "      <th rowspan=\"6\" valign=\"top\">First Penalty</th>\n",
       "      <th rowspan=\"2\" valign=\"top\">away</th>\n",
       "      <th>away</th>\n",
       "      <td>659</td>\n",
       "    </tr>\n",
       "    <tr>\n",
       "      <th>home</th>\n",
       "      <td>588</td>\n",
       "    </tr>\n",
       "    <tr>\n",
       "      <th rowspan=\"2\" valign=\"top\">even</th>\n",
       "      <th>away</th>\n",
       "      <td>2498</td>\n",
       "    </tr>\n",
       "    <tr>\n",
       "      <th>home</th>\n",
       "      <td>2177</td>\n",
       "    </tr>\n",
       "    <tr>\n",
       "      <th rowspan=\"2\" valign=\"top\">home</th>\n",
       "      <th>away</th>\n",
       "      <td>683</td>\n",
       "    </tr>\n",
       "    <tr>\n",
       "      <th>home</th>\n",
       "      <td>688</td>\n",
       "    </tr>\n",
       "    <tr>\n",
       "      <th rowspan=\"6\" valign=\"top\">away</th>\n",
       "      <th rowspan=\"2\" valign=\"top\">away</th>\n",
       "      <th>away</th>\n",
       "      <td>3719</td>\n",
       "    </tr>\n",
       "    <tr>\n",
       "      <th>home</th>\n",
       "      <td>4224</td>\n",
       "    </tr>\n",
       "    <tr>\n",
       "      <th rowspan=\"2\" valign=\"top\">even</th>\n",
       "      <th>away</th>\n",
       "      <td>3333</td>\n",
       "    </tr>\n",
       "    <tr>\n",
       "      <th>home</th>\n",
       "      <td>4569</td>\n",
       "    </tr>\n",
       "    <tr>\n",
       "      <th rowspan=\"2\" valign=\"top\">home</th>\n",
       "      <th>away</th>\n",
       "      <td>4595</td>\n",
       "    </tr>\n",
       "    <tr>\n",
       "      <th>home</th>\n",
       "      <td>6527</td>\n",
       "    </tr>\n",
       "    <tr>\n",
       "      <th rowspan=\"6\" valign=\"top\">home</th>\n",
       "      <th rowspan=\"2\" valign=\"top\">away</th>\n",
       "      <th>away</th>\n",
       "      <td>5134</td>\n",
       "    </tr>\n",
       "    <tr>\n",
       "      <th>home</th>\n",
       "      <td>3021</td>\n",
       "    </tr>\n",
       "    <tr>\n",
       "      <th rowspan=\"2\" valign=\"top\">even</th>\n",
       "      <th>away</th>\n",
       "      <td>4619</td>\n",
       "    </tr>\n",
       "    <tr>\n",
       "      <th>home</th>\n",
       "      <td>2736</td>\n",
       "    </tr>\n",
       "    <tr>\n",
       "      <th rowspan=\"2\" valign=\"top\">home</th>\n",
       "      <th>away</th>\n",
       "      <td>5518</td>\n",
       "    </tr>\n",
       "    <tr>\n",
       "      <th>home</th>\n",
       "      <td>4008</td>\n",
       "    </tr>\n",
       "  </tbody>\n",
       "</table>\n",
       "</div>"
      ],
      "text/plain": [
       "                                       counter\n",
       "last_penalty_for leading_at_time for          \n",
       "First Penalty    away            away      659\n",
       "                                 home      588\n",
       "                 even            away     2498\n",
       "                                 home     2177\n",
       "                 home            away      683\n",
       "                                 home      688\n",
       "away             away            away     3719\n",
       "                                 home     4224\n",
       "                 even            away     3333\n",
       "                                 home     4569\n",
       "                 home            away     4595\n",
       "                                 home     6527\n",
       "home             away            away     5134\n",
       "                                 home     3021\n",
       "                 even            away     4619\n",
       "                                 home     2736\n",
       "                 home            away     5518\n",
       "                                 home     4008"
      ]
     },
     "execution_count": 25,
     "metadata": {},
     "output_type": "execute_result"
    }
   ],
   "source": [
    "penalties_df['counter'] = 1\n",
    "penalties_df.groupby(['last_penalty_for','leading_at_time','for']).agg({'counter':'sum'})"
   ]
  },
  {
   "cell_type": "code",
   "execution_count": null,
   "metadata": {},
   "outputs": [],
   "source": []
  },
  {
   "cell_type": "code",
   "execution_count": null,
   "metadata": {},
   "outputs": [],
   "source": []
  },
  {
   "cell_type": "code",
   "execution_count": null,
   "metadata": {},
   "outputs": [],
   "source": []
  },
  {
   "cell_type": "code",
   "execution_count": 16,
   "metadata": {},
   "outputs": [],
   "source": [
    "# Two of the primary observations in this paper are that (1) teams that have taken more\n",
    "# penalties in a match are less likely to have the next penalty called against them and (2)\n",
    "# teams that are leading in a match are more likely to have the next penalty called against\n",
    "# them\n",
    "\n",
    "# next penalty more likely on the road team\n",
    "# I next penalty more likely on the team with fewer penalties\n",
    "# I next penalty more likely on the team having scored more goals\n",
    "# I next penalty more likely on the weaker team\n",
    "# I as matches progress, the penalty differential effect decreases"
   ]
  }
 ],
 "metadata": {
  "kernelspec": {
   "display_name": "Python 3",
   "language": "python",
   "name": "python3"
  },
  "language_info": {
   "codemirror_mode": {
    "name": "ipython",
    "version": 3
   },
   "file_extension": ".py",
   "mimetype": "text/x-python",
   "name": "python",
   "nbconvert_exporter": "python",
   "pygments_lexer": "ipython3",
   "version": "3.6.6"
  }
 },
 "nbformat": 4,
 "nbformat_minor": 2
}
